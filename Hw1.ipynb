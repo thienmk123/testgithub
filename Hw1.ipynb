{
 "cells": [
  {
   "cell_type": "code",
   "execution_count": null,
   "metadata": {},
   "outputs": [],
   "source": [
    "#C1\n",
    "data = '''\n",
    "Come to the\n",
    "River\n",
    "Of my\n",
    "Soulful\n",
    "Sentiments\n",
    "Meandering silently\n",
    "Yearning for release.\n",
    "Hasten\n",
    "Earnestly\n",
    "As my love flows by\n",
    "Rushing through the flood-gates\n",
    "To your heart.\n",
    "'''"
   ]
  },
  {
   "cell_type": "code",
   "execution_count": null,
   "metadata": {},
   "outputs": [],
   "source": [
    "string = ''\n",
    "for i, w in enumerate(data):\n",
    "    if w == '\\n' and i < len(data) - 1:\n",
    "        string += data[i+1]\n",
    "string"
   ]
  },
  {
   "cell_type": "code",
   "execution_count": null,
   "metadata": {},
   "outputs": [],
   "source": [
    "#C2\n",
    "i = 2**10000\n",
    "sum = 0\n",
    "while i > 0:\n",
    "    sum += i%10\n",
    "    i //=10\n",
    "sum"
   ]
  },
  {
   "cell_type": "code",
   "execution_count": null,
   "metadata": {},
   "outputs": [],
   "source": [
    "#C3\n",
    "haiku ='''\n",
    "Ngư60ời 'theo hư@ơng' hoa 100mây mù [giăng lối]\n",
    "Làn 25 sương khó30i phôi phai 90 đưa bư$ớc ai xa rồi 35\n",
    "100Đơn c#ôi m99ình ta {vấn vương} hồi ức tro^ng ... men say (chiều mưa) buồ80n \n",
    "Ng~ăn \"giọt lệ\" ngừng k2hiến khoé mi sầu bi.1 \n",
    "'''\n",
    "punctuations = '''!()-[]{};:'\"\\,<>./?@#$%^&*_~'''\n",
    "numbers = '1234567890'\n",
    "string = ''\n",
    "for i in haiku:\n",
    "    if i not in punctuations and i not in numbers:\n",
    "        string += i\n",
    "print(string)\n"
   ]
  },
  {
   "cell_type": "code",
   "execution_count": null,
   "metadata": {},
   "outputs": [],
   "source": [
    "#a + 13 * b / c + d + 12 * e - f - 11 + g * h / i - 10 = 66\n",
    "#C4\n",
    "count = 0\n",
    "for a in range(1, 10):\n",
    "    for b in range(1, 10):\n",
    "        for c in range(1, 10):\n",
    "            for d in range(1, 10):\n",
    "                for e in range(1, 10):\n",
    "                    for f in range(1, 10):\n",
    "                        for g in range(1, 10):\n",
    "                            for h in range(1, 10):\n",
    "                                for i in range(1, 10):\n",
    "                                    if a + 13 * b / c + d + 12 * e - f - 11 + g * h / i - 10 == 66:\n",
    "                                        count += 1\n",
    "                                 \n",
    "#print(count)\n",
    "                                \n",
    "    "
   ]
  },
  {
   "cell_type": "code",
   "execution_count": null,
   "metadata": {},
   "outputs": [],
   "source": [
    "#C5\n",
    "def coun_t(s):\n",
    "    count = 0\n",
    "    for i in s:\n",
    "        count += ord(i)\n",
    "    return count - 96 * len(s)\n",
    "    \n",
    "    "
   ]
  },
  {
   "cell_type": "code",
   "execution_count": null,
   "metadata": {},
   "outputs": [],
   "source": [
    "coun_t('python')"
   ]
  },
  {
   "cell_type": "code",
   "execution_count": null,
   "metadata": {},
   "outputs": [],
   "source": [
    "#C6\n",
    "sum1 = 0\n",
    "sum2 = 1\n",
    "lst = []\n",
    "for i in range(0, 1001):\n",
    "    sum2, sum1 = sum1 + sum2, sum2\n",
    "    lst.append(sum2)    "
   ]
  },
  {
   "cell_type": "code",
   "execution_count": null,
   "metadata": {},
   "outputs": [],
   "source": [
    "#C7\n",
    "import math\n",
    "lst = []\n",
    "for i in range(1, 10001):\n",
    "    count = 0\n",
    "    for j in range(1, int(math.sqrt(i))+1):\n",
    "        if i % j == 0:\n",
    "            count += 1\n",
    "    if count <= 1:\n",
    "        lst.append(i)\n",
    "len(lst)\n",
    "        "
   ]
  },
  {
   "cell_type": "code",
   "execution_count": 57,
   "metadata": {},
   "outputs": [
    {
     "data": {
      "text/plain": [
       "{'and': 20,\n",
       " 'python': 17,\n",
       " 'the': 16,\n",
       " 'to': 9,\n",
       " 'language': 6,\n",
       " 'in': 6,\n",
       " 'of': 6,\n",
       " 'it': 5,\n",
       " 'a': 5,\n",
       " 'for': 5,\n",
       " 'or': 5}"
      ]
     },
     "execution_count": 57,
     "metadata": {},
     "output_type": "execute_result"
    }
   ],
   "source": [
    "#C8\n",
    "import operator\n",
    "document ='''Python is an easy to learn, powerful programming language. It has efficient high-level data structures and a simple but effective approach to object-oriented programming. Python’s elegant syntax and dynamic typing, together with its interpreted nature, make it an ideal language for scripting and rapid application development in many areas on most platforms.\n",
    "\n",
    "The Python interpreter and the extensive standard library are freely available in source or binary form for all major platforms from the Python Web site, https://www.python.org/, and may be freely distributed. The same site also contains distributions of and pointers to many free third party Python modules, programs and tools, and additional documentation.\n",
    "\n",
    "The Python interpreter is easily extended with new functions and data types implemented in C or C++ (or other languages callable from C). Python is also suitable as an extension language for customizable applications.\n",
    "\n",
    "This tutorial introduces the reader informally to the basic concepts and features of the Python language and system. It helps to have a Python interpreter handy for hands-on experience, but all examples are self-contained, so the tutorial can be read off-line as well.\n",
    "\n",
    "For a description of standard objects and modules, see The Python Standard Library. The Python Language Reference gives a more formal definition of the language. To write extensions in C or C++, read Extending and Embedding the Python Interpreter and Python/C API Reference Manual. There are also several books covering Python in depth.\n",
    "\n",
    "This tutorial does not attempt to be comprehensive and cover every single feature, or even every commonly used feature. Instead, it introduces many of Python’s most noteworthy features, and will give you a good idea of the language’s flavor and style. After reading it, you will be able to read and write Python modules and programs, and you will be ready to learn more about the various Python library modules described in The Python Standard Library.'''\n",
    "lst = []\n",
    "string = ''\n",
    "punctuations = '''!()-[]{};:'\"\\,<>./?@#$%^&*_~'''\n",
    "for i in document:\n",
    "    if i not in [',', '.', '\\n', ' '] and i not in punctuations:\n",
    "        string += i.lower()\n",
    "    else:\n",
    "        if string != '' :\n",
    "            lst.append(string)\n",
    "            string = ''\n",
    "lst_distinct = []\n",
    "lst_count = []\n",
    "for i in lst:\n",
    "    if i not in lst_distinct:\n",
    "        lst_distinct.append(i)\n",
    "        lst_count.append(lst.count(i))\n",
    "dic = {}\n",
    "count = 0\n",
    "while count <= 10:\n",
    "    for i, s in enumerate(lst_count):\n",
    "        if s == max(lst_count):\n",
    "            dic[lst_distinct[i]] = s\n",
    "            lst_distinct.remove(lst_distinct[i])\n",
    "            lst_count.remove(s)\n",
    "            break\n",
    "    count += 1\n",
    "dic         \n",
    "       \n",
    "\n",
    "\n",
    "        \n",
    "    \n"
   ]
  },
  {
   "cell_type": "code",
   "execution_count": 34,
   "metadata": {},
   "outputs": [
    {
     "name": "stdout",
     "output_type": "stream",
     "text": [
      "3\n",
      "4\n",
      "5\n",
      "6\n",
      "-----\n",
      "1\n",
      "2\n",
      "-----\n",
      "7\n",
      "8\n",
      "9\n",
      "10\n",
      "-----\n",
      "100\n",
      "101\n"
     ]
    }
   ],
   "source": [
    "#C9\n",
    "L1 = [1, 2, 3, 4, 5, 6]\n",
    "L2 = [3, 4, 5, 6, 7, 8, 9, 10]\n",
    "for i in L1:\n",
    "    if i in L2:\n",
    "        print(i)\n",
    "print(\"-----\")\n",
    "for i in L1:\n",
    "    if i not in L2:\n",
    "        print(i)\n",
    "print(\"-----\")\n",
    "for i in L2:\n",
    "    if i not in L1:\n",
    "        print(i)\n",
    "print(\"-----\")\n",
    "L3 = L1 + L2 + [100,101]\n",
    "for i in L3:\n",
    "    if i not in L1 and i not in L2:\n",
    "        print(i)\n"
   ]
  },
  {
   "cell_type": "code",
   "execution_count": null,
   "metadata": {},
   "outputs": [],
   "source": [
    "#C10\n"
   ]
  }
 ],
 "metadata": {
  "kernelspec": {
   "display_name": "Python 3",
   "language": "python",
   "name": "python3"
  },
  "language_info": {
   "codemirror_mode": {
    "name": "ipython",
    "version": 3
   },
   "file_extension": ".py",
   "mimetype": "text/x-python",
   "name": "python",
   "nbconvert_exporter": "python",
   "pygments_lexer": "ipython3",
   "version": "3.8.3"
  }
 },
 "nbformat": 4,
 "nbformat_minor": 4
}
